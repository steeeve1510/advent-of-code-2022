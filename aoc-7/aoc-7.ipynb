{
 "cells": [
  {
   "cell_type": "code",
   "execution_count": null,
   "metadata": {},
   "outputs": [],
   "source": [
    "from pyxtension.streams import stream\n",
    "import re\n",
    "\n",
    "file = \"aoc-7.ex1.txt\"\n",
    "file = \"aoc-7.ex2.txt\""
   ]
  },
  {
   "cell_type": "code",
   "execution_count": null,
   "metadata": {},
   "outputs": [],
   "source": [
    "with open(file) as file:\n",
    "    lines = [line.rstrip() for line in file]\n"
   ]
  },
  {
   "cell_type": "code",
   "execution_count": null,
   "metadata": {},
   "outputs": [],
   "source": [
    "def create_directory():\n",
    "    return ({}, [])\n",
    "\n",
    "def is_cd(line):\n",
    "    return line.startswith('$ cd ')\n",
    "def is_ls(line):\n",
    "    return line.startswith('$ ls')\n",
    "\n",
    "def is_dir_ls(line):\n",
    "    return line.startswith('dir ')\n",
    "\n",
    "def create_file(line):\n",
    "    parts = line.split()\n",
    "    name = parts[1]\n",
    "    size = int(parts[0])\n",
    "    return (name, size)\n",
    "\n",
    "def create_directory_if_not_exists(path):\n",
    "    global filesystem\n",
    "    current_directory = filesystem\n",
    "    for element in path[1:]:\n",
    "        if element not in current_directory[0]:\n",
    "            dir = create_directory()\n",
    "            current_directory[0][element] = dir\n",
    "        current_directory = current_directory[0][element]\n",
    "\n",
    "def change_directory(line):\n",
    "    global current_path\n",
    "    navigation = line.split('$ cd ')[1]\n",
    "    if (navigation == '/'):\n",
    "        current_path = ['/']\n",
    "    elif navigation == '..':\n",
    "        current_path = current_path[:-1]\n",
    "    else:\n",
    "        current_path.append(navigation)\n",
    "    create_directory_if_not_exists(current_path)\n",
    "\n",
    "def add_directory(line):\n",
    "    global filesystem\n",
    "    global current_path\n",
    "    name = line.split()[1]\n",
    "    current_directory = filesystem\n",
    "    for element in current_path[1:]:\n",
    "        current_directory = current_directory[0][element]\n",
    "    dir = create_directory()\n",
    "    current_directory[0][name] = dir\n",
    "\n",
    "def add_file(line):\n",
    "    global filesystem\n",
    "    global current_path\n",
    "    file = create_file(line)\n",
    "    current_directory = filesystem\n",
    "    for element in current_path[1:]:\n",
    "        current_directory = current_directory[0][element]\n",
    "    current_directory[1].append(file)\n",
    "\n",
    "filesystem = create_directory()\n",
    "current_path = ['/']\n",
    "\n",
    "for line in lines:\n",
    "    if is_cd(line):\n",
    "        change_directory(line)\n",
    "    elif is_ls(line):\n",
    "        pass\n",
    "    elif is_dir_ls(line):\n",
    "        add_directory(line)\n",
    "    else:\n",
    "        add_file(line)"
   ]
  },
  {
   "attachments": {},
   "cell_type": "markdown",
   "metadata": {},
   "source": [
    "### Part 1"
   ]
  },
  {
   "cell_type": "code",
   "execution_count": null,
   "metadata": {},
   "outputs": [],
   "source": [
    "def get_sizes(name, directory):\n",
    "    dir_sizes = stream(directory[0])\\\n",
    "        .flatMap(lambda n: get_sizes(n, directory[0][n]))\\\n",
    "        .toList()\n",
    "    file_size = stream(directory[1])\\\n",
    "        .map(lambda f: f[1])\\\n",
    "        .sum()\n",
    "    contained_dir_size = stream(dir_sizes)\\\n",
    "        .filter(lambda s: s[2])\\\n",
    "        .map(lambda s: s[1])\\\n",
    "        .sum()\n",
    "    cleared_dir_sizes =  stream(dir_sizes)\\\n",
    "        .map(lambda s: (s[0], s[1], False))\\\n",
    "        .toList()\n",
    "    return [(name, file_size + contained_dir_size, True)] + cleared_dir_sizes\n",
    "\n",
    "sizes = get_sizes('/', filesystem)\n",
    "\n",
    "stream(sizes)\\\n",
    "    .map(lambda s: s[1])\\\n",
    "    .filter(lambda s: s <= 100000)\\\n",
    "    .sum()"
   ]
  },
  {
   "attachments": {},
   "cell_type": "markdown",
   "metadata": {},
   "source": [
    "### Part 2"
   ]
  },
  {
   "cell_type": "code",
   "execution_count": null,
   "metadata": {},
   "outputs": [],
   "source": [
    "disk_size = 70000000\n",
    "needed_size = 30000000\n",
    "\n",
    "used_size = stream(sizes)\\\n",
    "    .map(lambda s: s[1])\\\n",
    "    .sorted(reverse=True)\\\n",
    "    .head(1)\\\n",
    "    .sum()\n",
    "\n",
    "free_size = used_size - (disk_size - needed_size)\n",
    "\n",
    "stream(sizes)\\\n",
    "    .map(lambda s: s[1])\\\n",
    "    .sorted()\\\n",
    "    .filter(lambda s: s > free_size)\\\n",
    "    .head(1)\\\n",
    "    .sum()"
   ]
  }
 ],
 "metadata": {
  "kernelspec": {
   "display_name": "Python 3",
   "language": "python",
   "name": "python3"
  },
  "language_info": {
   "codemirror_mode": {
    "name": "ipython",
    "version": 3
   },
   "file_extension": ".py",
   "mimetype": "text/x-python",
   "name": "python",
   "nbconvert_exporter": "python",
   "pygments_lexer": "ipython3",
   "version": "3.8.10"
  },
  "orig_nbformat": 4,
  "vscode": {
   "interpreter": {
    "hash": "e7370f93d1d0cde622a1f8e1c04877d8463912d04d973331ad4851f04de6915a"
   }
  }
 },
 "nbformat": 4,
 "nbformat_minor": 2
}
