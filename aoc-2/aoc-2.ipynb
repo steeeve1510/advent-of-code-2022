{
 "cells": [
  {
   "cell_type": "code",
   "execution_count": null,
   "metadata": {},
   "outputs": [],
   "source": [
    "from pyxtension.streams import stream\n",
    "\n",
    "file = \"aoc-2.ex1.txt\"\n",
    "file = \"aoc-2.ex2.txt\""
   ]
  },
  {
   "cell_type": "code",
   "execution_count": null,
   "metadata": {},
   "outputs": [],
   "source": [
    "def to_rounds(lines):\n",
    "    return stream(lines)\\\n",
    "        .map(lambda l: l.split(' '))\\\n",
    "        .toList()\n",
    "\n",
    "with open(file) as file:\n",
    "    lines = [line.rstrip() for line in file]\n",
    "\n",
    "rounds = to_rounds(lines)"
   ]
  },
  {
   "attachments": {},
   "cell_type": "markdown",
   "metadata": {},
   "source": [
    "### Part 1"
   ]
  },
  {
   "cell_type": "code",
   "execution_count": null,
   "metadata": {},
   "outputs": [],
   "source": [
    "def move_to_score(move):\n",
    "    if (move == 'A' or move == 'X'):\n",
    "        return 1\n",
    "    if (move == 'B' or move == 'Y'):\n",
    "        return 2\n",
    "    if (move == 'C' or move == 'Z'):\n",
    "        return 3\n",
    "\n",
    "def determine_outcome_score(their_score, my_score):\n",
    "    outcome = (their_score - my_score) % 3\n",
    "    if (outcome == 0):\n",
    "        return 3\n",
    "    if (outcome == 1):\n",
    "        return 0\n",
    "    if (outcome == 2):\n",
    "        return 6\n",
    "\n",
    "def evaluate_round(their_move, my_move):\n",
    "    their_score = move_to_score(their_move)\n",
    "    my_score = move_to_score(my_move)\n",
    "    outcome_score = determine_outcome_score(their_score, my_score)\n",
    "    return my_score + outcome_score\n",
    "\n",
    "score = stream(rounds)\\\n",
    "    .map(lambda  moves: evaluate_round(moves[0], moves[1]))\\\n",
    "    .sum()\n",
    "\n",
    "score"
   ]
  },
  {
   "attachments": {},
   "cell_type": "markdown",
   "metadata": {},
   "source": [
    "### Part 2"
   ]
  },
  {
   "cell_type": "code",
   "execution_count": null,
   "metadata": {},
   "outputs": [],
   "source": [
    "def outcome_to_score(outcome):\n",
    "    if (outcome == 'X'):\n",
    "        return 0\n",
    "    if (outcome == 'Y'):\n",
    "        return 3\n",
    "    if (outcome == 'Z'):\n",
    "        return 6\n",
    "\n",
    "def determine_move(their_score, outcome_score):\n",
    "    desired_outcome = outcome_score / 3\n",
    "    if desired_outcome == 1:\n",
    "        move = their_score\n",
    "    if desired_outcome == 0:\n",
    "        move = (their_score - 1) % 3\n",
    "    if desired_outcome == 2:\n",
    "        move = (their_score + 1) % 3\n",
    "    if move == 0:\n",
    "        return 3\n",
    "    return move\n",
    "\n",
    "def evaluate_round_2(their_move, desired_outcome):\n",
    "    their_score = move_to_score(their_move)\n",
    "    outcome_score = outcome_to_score(desired_outcome)\n",
    "    my_score = determine_move(their_score, outcome_score)\n",
    "    # print(str(their_score) + ' ' + str(my_score) + ' ' + str(outcome_score))\n",
    "    return my_score + outcome_score\n",
    "\n",
    "score = stream(rounds)\\\n",
    "    .map(lambda  moves: evaluate_round_2(moves[0], moves[1]))\\\n",
    "    .sum()\n",
    "\n",
    "score"
   ]
  }
 ],
 "metadata": {
  "kernelspec": {
   "display_name": "Python 3",
   "language": "python",
   "name": "python3"
  },
  "language_info": {
   "codemirror_mode": {
    "name": "ipython",
    "version": 3
   },
   "file_extension": ".py",
   "mimetype": "text/x-python",
   "name": "python",
   "nbconvert_exporter": "python",
   "pygments_lexer": "ipython3",
   "version": "3.8.10 (default, Nov 14 2022, 12:59:47) \n[GCC 9.4.0]"
  },
  "orig_nbformat": 4,
  "vscode": {
   "interpreter": {
    "hash": "e7370f93d1d0cde622a1f8e1c04877d8463912d04d973331ad4851f04de6915a"
   }
  }
 },
 "nbformat": 4,
 "nbformat_minor": 2
}
