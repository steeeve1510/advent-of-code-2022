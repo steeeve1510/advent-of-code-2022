{
 "cells": [
  {
   "cell_type": "code",
   "execution_count": null,
   "metadata": {},
   "outputs": [],
   "source": [
    "from pyxtension.streams import stream\n",
    "\n",
    "file = \"aoc-3.ex1.txt\"\n",
    "file = \"aoc-3.ex2.txt\""
   ]
  },
  {
   "cell_type": "code",
   "execution_count": null,
   "metadata": {},
   "outputs": [],
   "source": [
    "def to_backpack(line):\n",
    "    half = int(len(line) / 2)\n",
    "    return [line[0:half], line[half:]]\n",
    "\n",
    "def to_backpacks(lines):\n",
    "    return stream(lines)\\\n",
    "        .map(to_backpack)\\\n",
    "        .toList()\n",
    "\n",
    "with open(file) as file:\n",
    "    lines = [line.rstrip() for line in file]\n",
    "\n",
    "backpacks = to_backpacks(lines)"
   ]
  },
  {
   "attachments": {},
   "cell_type": "markdown",
   "metadata": {},
   "source": [
    "### Part 1"
   ]
  },
  {
   "cell_type": "code",
   "execution_count": null,
   "metadata": {},
   "outputs": [],
   "source": [
    "def get_distinct_items(compartment):\n",
    "    items = [item for item in compartment]\n",
    "    return stream(items).toSet()\n",
    "\n",
    "def find_shared_item(compartment1, compartment2):\n",
    "    items1 = get_distinct_items(compartment1)\n",
    "    items2 = get_distinct_items(compartment2)\n",
    "    return list(items1.intersection(items2))\n",
    "\n",
    "def item_to_prio(item):\n",
    "    if (item.islower()):\n",
    "        return ord(item) - 96\n",
    "    if (item.isupper()):\n",
    "        return ord(item) - 38\n",
    "\n",
    "def items_to_prio(items):\n",
    "    return stream(items)\\\n",
    "        .map(item_to_prio)\\\n",
    "        .sum()\n",
    "\n",
    "stream(backpacks)\\\n",
    "    .map(lambda b: find_shared_item(b[0], b[1]))\\\n",
    "    .map(items_to_prio)\\\n",
    "    .sum()\n"
   ]
  },
  {
   "attachments": {},
   "cell_type": "markdown",
   "metadata": {},
   "source": [
    "### Part 2"
   ]
  },
  {
   "cell_type": "code",
   "execution_count": null,
   "metadata": {},
   "outputs": [],
   "source": [
    "def group(groups, backpack):\n",
    "    combined = backpack[0] + backpack[1]\n",
    "    last = groups[-1]\n",
    "    if len(last) >= 3:\n",
    "        groups.append([combined])\n",
    "    else:\n",
    "        last.append(combined)\n",
    "    return groups\n",
    "\n",
    "def find_shared_item_3(compartment1, compartment2, compartment3):\n",
    "    return find_shared_item(\n",
    "        find_shared_item(compartment1, compartment2),\n",
    "        compartment3\n",
    "    )\n",
    "\n",
    "backpacks_per_group = stream(backpacks)\\\n",
    "    .reduce(group, [[]])\n",
    "\n",
    "stream(backpacks_per_group)\\\n",
    "    .map(lambda bs: find_shared_item_3(bs[0], bs[1], bs[2]))\\\n",
    "    .map(items_to_prio)\\\n",
    "    .sum()"
   ]
  }
 ],
 "metadata": {
  "kernelspec": {
   "display_name": "Python 3",
   "language": "python",
   "name": "python3"
  },
  "language_info": {
   "codemirror_mode": {
    "name": "ipython",
    "version": 3
   },
   "file_extension": ".py",
   "mimetype": "text/x-python",
   "name": "python",
   "nbconvert_exporter": "python",
   "pygments_lexer": "ipython3",
   "version": "3.8.10 (default, Nov 14 2022, 12:59:47) \n[GCC 9.4.0]"
  },
  "orig_nbformat": 4,
  "vscode": {
   "interpreter": {
    "hash": "e7370f93d1d0cde622a1f8e1c04877d8463912d04d973331ad4851f04de6915a"
   }
  }
 },
 "nbformat": 4,
 "nbformat_minor": 2
}
