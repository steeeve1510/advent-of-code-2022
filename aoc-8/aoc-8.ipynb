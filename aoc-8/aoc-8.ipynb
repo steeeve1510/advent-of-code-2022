{
 "cells": [
  {
   "cell_type": "code",
   "execution_count": null,
   "metadata": {},
   "outputs": [],
   "source": [
    "from pyxtension.streams import stream\n",
    "import re\n",
    "\n",
    "file = \"aoc-8.ex1.txt\"\n",
    "file = \"aoc-8.ex2.txt\""
   ]
  },
  {
   "cell_type": "code",
   "execution_count": null,
   "metadata": {},
   "outputs": [],
   "source": [
    "def to_row(line):\n",
    "    return [[int(c), False, 0] for c in line]\n",
    "\n",
    "with open(file) as file:\n",
    "    lines = [line.rstrip() for line in file]\n",
    "\n",
    "grid = stream(lines)\\\n",
    "    .map(to_row)\\\n",
    "    .toList()"
   ]
  },
  {
   "cell_type": "code",
   "execution_count": null,
   "metadata": {},
   "outputs": [],
   "source": [
    "def get_width(grid):\n",
    "    return len(grid[0])\n",
    "\n",
    "def get_height(grid):\n",
    "    return len(grid)\n",
    "\n",
    "def right(coordinate):\n",
    "    (x, y) = coordinate\n",
    "    if (x + 1 >= get_width(grid)):\n",
    "        return None\n",
    "    return (x+1, y)\n",
    "\n",
    "def left(coordinate):\n",
    "    (x, y) = coordinate\n",
    "    if (x <= 0):\n",
    "        return None\n",
    "    return (x-1, y)\n",
    "\n",
    "def up(coordinate):\n",
    "    (x, y) = coordinate\n",
    "    if (y <= 0):\n",
    "        return None\n",
    "    return (x, y-1)\n",
    "\n",
    "def down(coordinate):\n",
    "    (x, y) = coordinate\n",
    "    if (y + 1 >= get_height(grid)):\n",
    "        return None\n",
    "    return (x, y+1)\n",
    "\n",
    "def tree_height(coordinate):\n",
    "     (x, y) = coordinate\n",
    "     return grid[y][x][0]\n",
    "\n",
    "def is_visible(coordinate):\n",
    "     (x, y) = coordinate\n",
    "     return grid[y][x][1]\n",
    "\n",
    "def mark_visible(coordinate):\n",
    "     (x, y) = coordinate\n",
    "     grid[y][x][1] = True\n",
    "\n",
    "def get_score(coordinate):\n",
    "     (x, y) = coordinate\n",
    "     return grid[y][x][2]\n",
    "\n",
    "def set_score(coordinate, score):\n",
    "     (x, y) = coordinate\n",
    "     grid[y][x][2] = score"
   ]
  },
  {
   "attachments": {},
   "cell_type": "markdown",
   "metadata": {},
   "source": [
    "### Part 1"
   ]
  },
  {
   "cell_type": "code",
   "execution_count": null,
   "metadata": {},
   "outputs": [],
   "source": [
    "def mark_visible_trees(coor, move, max_height=-1):\n",
    "    if coor is None:\n",
    "        return\n",
    "    next_coor = move(coor)\n",
    "    height = tree_height(coor)\n",
    "    if (height > max_height):\n",
    "        mark_visible(coor)\n",
    "        mark_visible_trees(next_coor, move, height)\n",
    "    else:\n",
    "        mark_visible_trees(next_coor, move, max_height)\n",
    "\n",
    "def mark_horizontal(y):\n",
    "    left_coor = (0, y)\n",
    "    right_coor = (get_width(grid)-1, y)\n",
    "    mark_visible_trees(left_coor, right)\n",
    "    mark_visible_trees(right_coor, left)\n",
    "    return y\n",
    "\n",
    "stream(range(0, get_height(grid)))\\\n",
    "    .map(mark_horizontal)\\\n",
    "    .size()\n",
    "    \n",
    "def mark_vertical(x):\n",
    "    top_coor = (x, 0)\n",
    "    bottom_coor = (x, get_height(grid)-1)\n",
    "    mark_visible_trees(top_coor, down)\n",
    "    mark_visible_trees(bottom_coor, up)\n",
    "    return x\n",
    "\n",
    "stream(range(0, get_width(grid)))\\\n",
    "    .map(mark_vertical)\\\n",
    "    .size()\n",
    "    \n",
    "stream(range(0, get_height(grid)))\\\n",
    "    .flatMap(lambda y: grid[y])\\\n",
    "    .filter(lambda c: c[1])\\\n",
    "    .size()\n"
   ]
  },
  {
   "attachments": {},
   "cell_type": "markdown",
   "metadata": {},
   "source": [
    "### Part 2"
   ]
  },
  {
   "cell_type": "code",
   "execution_count": null,
   "metadata": {},
   "outputs": [],
   "source": [
    "def get_score_in_direction(coor, move, height):\n",
    "    next_coor = move(coor)\n",
    "    if next_coor is None:\n",
    "        return 0\n",
    "    next_height = tree_height(next_coor)\n",
    "    if next_height < height:\n",
    "        return 1 + get_score_in_direction(next_coor, move, height)\n",
    "    return 1\n",
    "\n",
    "def get_score(coor):\n",
    "    height = tree_height(coor)\n",
    "    return stream([up, right, down, left])\\\n",
    "        .map(lambda m: get_score_in_direction(coor, m, height))\\\n",
    "        .reduce(lambda x, y: x * y)\n",
    "\n",
    "stream(range(0, get_height(grid)))\\\n",
    "    .flatMap(lambda y: stream(range(0, get_width(grid))).map(lambda x: (x, y)).toList())\\\n",
    "    .map(get_score)\\\n",
    "    .max()"
   ]
  }
 ],
 "metadata": {
  "kernelspec": {
   "display_name": "Python 3",
   "language": "python",
   "name": "python3"
  },
  "language_info": {
   "codemirror_mode": {
    "name": "ipython",
    "version": 3
   },
   "file_extension": ".py",
   "mimetype": "text/x-python",
   "name": "python",
   "nbconvert_exporter": "python",
   "pygments_lexer": "ipython3",
   "version": "3.8.10"
  },
  "orig_nbformat": 4,
  "vscode": {
   "interpreter": {
    "hash": "e7370f93d1d0cde622a1f8e1c04877d8463912d04d973331ad4851f04de6915a"
   }
  }
 },
 "nbformat": 4,
 "nbformat_minor": 2
}
