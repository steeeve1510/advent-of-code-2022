{
 "cells": [
  {
   "cell_type": "code",
   "execution_count": null,
   "metadata": {},
   "outputs": [],
   "source": [
    "from pyxtension.streams import stream\n",
    "import re\n",
    "\n",
    "file = \"aoc-6.ex1.txt\"\n",
    "file = \"aoc-6.ex2.txt\""
   ]
  },
  {
   "cell_type": "code",
   "execution_count": null,
   "metadata": {},
   "outputs": [],
   "source": [
    "def get_groups(line, size=4):\n",
    "    groups = []\n",
    "    for i in range(0, len(line)-size+1):\n",
    "        group = line[i:i+size]\n",
    "        groups.append(group)\n",
    "    return groups\n",
    "\n",
    "with open(file) as file:\n",
    "    lines = [line.rstrip() for line in file]\n"
   ]
  },
  {
   "attachments": {},
   "cell_type": "markdown",
   "metadata": {},
   "source": [
    "### Part 1"
   ]
  },
  {
   "cell_type": "code",
   "execution_count": null,
   "metadata": {},
   "outputs": [],
   "source": [
    "groups = get_groups(lines[0], 4)\n",
    "\n",
    "def is_distinct(index):\n",
    "    group = groups[index]\n",
    "    return len(set(group)) == len(group)\n",
    "\n",
    "stream(range(0, len(groups)))\\\n",
    "    .filter(is_distinct)\\\n",
    "    .map(lambda n: n+4)\\\n",
    "    .map(str)\\\n",
    "    .head(1)\\\n",
    "    .join()"
   ]
  },
  {
   "attachments": {},
   "cell_type": "markdown",
   "metadata": {},
   "source": [
    "### Part 2"
   ]
  },
  {
   "cell_type": "code",
   "execution_count": null,
   "metadata": {},
   "outputs": [],
   "source": [
    "groups = get_groups(lines[0], 14)\n",
    "\n",
    "def is_distinct(index):\n",
    "    group = groups[index]\n",
    "    return len(set(group)) == len(group)\n",
    "\n",
    "stream(range(0, len(groups)))\\\n",
    "    .filter(is_distinct)\\\n",
    "    .map(lambda n: n+14)\\\n",
    "    .map(str)\\\n",
    "    .head(1)\\\n",
    "    .join()"
   ]
  }
 ],
 "metadata": {
  "kernelspec": {
   "display_name": "Python 3",
   "language": "python",
   "name": "python3"
  },
  "language_info": {
   "codemirror_mode": {
    "name": "ipython",
    "version": 3
   },
   "file_extension": ".py",
   "mimetype": "text/x-python",
   "name": "python",
   "nbconvert_exporter": "python",
   "pygments_lexer": "ipython3",
   "version": "3.8.10 (default, Nov 14 2022, 12:59:47) \n[GCC 9.4.0]"
  },
  "orig_nbformat": 4,
  "vscode": {
   "interpreter": {
    "hash": "e7370f93d1d0cde622a1f8e1c04877d8463912d04d973331ad4851f04de6915a"
   }
  }
 },
 "nbformat": 4,
 "nbformat_minor": 2
}
