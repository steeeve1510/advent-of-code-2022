{
 "cells": [
  {
   "cell_type": "code",
   "execution_count": null,
   "metadata": {},
   "outputs": [],
   "source": [
    "from pyxtension.streams import stream\n",
    "\n",
    "file = \"aoc-4.ex1.txt\"\n",
    "file = \"aoc-4.ex2.txt\""
   ]
  },
  {
   "cell_type": "code",
   "execution_count": null,
   "metadata": {},
   "outputs": [],
   "source": [
    "def to_range(part):\n",
    "    bounds = part.split('-')\n",
    "    return range(int(bounds[0]), int(bounds[1])+1)\n",
    "\n",
    "def to_range_pair(line):\n",
    "    parts = line.split(',')\n",
    "    return [\n",
    "        to_range(parts[0]),\n",
    "        to_range(parts[1])\n",
    "    ]\n",
    "\n",
    "def to_range_pairs(lines):\n",
    "    return stream(lines)\\\n",
    "        .map(to_range_pair)\\\n",
    "        .toList()\n",
    "\n",
    "with open(file) as file:\n",
    "    lines = [line.rstrip() for line in file]\n",
    "\n",
    "range_pairs = to_range_pairs(lines)"
   ]
  },
  {
   "attachments": {},
   "cell_type": "markdown",
   "metadata": {},
   "source": [
    "### Part 1"
   ]
  },
  {
   "cell_type": "code",
   "execution_count": null,
   "metadata": {},
   "outputs": [],
   "source": [
    "def contains_either_way(range1, range2):\n",
    "    return set(range1).issubset(range2) or set(range2).issubset(range1)\n",
    "\n",
    "stream(range_pairs)\\\n",
    "    .filter(lambda p: contains_either_way(p[0], p[1]))\\\n",
    "    .size()"
   ]
  },
  {
   "attachments": {},
   "cell_type": "markdown",
   "metadata": {},
   "source": [
    "### Part 2"
   ]
  },
  {
   "cell_type": "code",
   "execution_count": null,
   "metadata": {},
   "outputs": [],
   "source": [
    "def intersects(range1, range2):\n",
    "    return not set(range1).isdisjoint(range2)\n",
    "\n",
    "stream(range_pairs)\\\n",
    "    .filter(lambda p: intersects(p[0], p[1]))\\\n",
    "    .size()"
   ]
  }
 ],
 "metadata": {
  "kernelspec": {
   "display_name": "Python 3",
   "language": "python",
   "name": "python3"
  },
  "language_info": {
   "codemirror_mode": {
    "name": "ipython",
    "version": 3
   },
   "file_extension": ".py",
   "mimetype": "text/x-python",
   "name": "python",
   "nbconvert_exporter": "python",
   "pygments_lexer": "ipython3",
   "version": "3.8.10"
  },
  "orig_nbformat": 4,
  "vscode": {
   "interpreter": {
    "hash": "e7370f93d1d0cde622a1f8e1c04877d8463912d04d973331ad4851f04de6915a"
   }
  }
 },
 "nbformat": 4,
 "nbformat_minor": 2
}
