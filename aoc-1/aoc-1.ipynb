{
 "cells": [
  {
   "cell_type": "code",
   "execution_count": null,
   "metadata": {},
   "outputs": [],
   "source": [
    "from pyxtension.streams import stream\n",
    "\n",
    "file = \"aoc-1.ex1.txt\"\n",
    "file = \"aoc-1.ex2.txt\""
   ]
  },
  {
   "cell_type": "code",
   "execution_count": null,
   "metadata": {},
   "outputs": [],
   "source": [
    "def to_groups(lines):\n",
    "    groups = []\n",
    "    current_group = []\n",
    "    for line in lines:\n",
    "        if line == '':\n",
    "            groups.append(current_group)\n",
    "            current_group = []\n",
    "        else:\n",
    "            current_group.append(line)\n",
    "    if current_group:\n",
    "        groups.append(current_group)\n",
    "    return stream(groups)\\\n",
    "            .map(lambda g: stream(g).map(int).toList())\\\n",
    "            .toList()\n",
    "\n",
    "with open(file) as file:\n",
    "    lines = [line.rstrip() for line in file]\n",
    "\n",
    "groups = to_groups(lines)"
   ]
  },
  {
   "attachments": {},
   "cell_type": "markdown",
   "metadata": {},
   "source": [
    "### Part 1"
   ]
  },
  {
   "cell_type": "code",
   "execution_count": null,
   "metadata": {},
   "outputs": [],
   "source": [
    "sum_per_elf = stream(groups)\\\n",
    "    .map(lambda g: stream(g).sum())\\\n",
    "    .toList()\n",
    "top_elf = stream(sum_per_elf).max()\n",
    "top_elf"
   ]
  },
  {
   "attachments": {},
   "cell_type": "markdown",
   "metadata": {},
   "source": [
    "### Part 2"
   ]
  },
  {
   "cell_type": "code",
   "execution_count": null,
   "metadata": {},
   "outputs": [],
   "source": [
    "sum_per_elf = stream(groups)\\\n",
    "    .map(lambda g: stream(g).sum())\\\n",
    "    .toList()\n",
    "\n",
    "top_three_elves = stream(sum_per_elf)\\\n",
    "    .sorted(reverse=True)\\\n",
    "    .take(3)\\\n",
    "    .sum()\n",
    "\n",
    "top_three_elves\n"
   ]
  }
 ],
 "metadata": {
  "kernelspec": {
   "display_name": "Python 3",
   "language": "python",
   "name": "python3"
  },
  "language_info": {
   "codemirror_mode": {
    "name": "ipython",
    "version": 3
   },
   "file_extension": ".py",
   "mimetype": "text/x-python",
   "name": "python",
   "nbconvert_exporter": "python",
   "pygments_lexer": "ipython3",
   "version": "3.8.10 (default, Nov 14 2022, 12:59:47) \n[GCC 9.4.0]"
  },
  "orig_nbformat": 4,
  "vscode": {
   "interpreter": {
    "hash": "e7370f93d1d0cde622a1f8e1c04877d8463912d04d973331ad4851f04de6915a"
   }
  }
 },
 "nbformat": 4,
 "nbformat_minor": 2
}
