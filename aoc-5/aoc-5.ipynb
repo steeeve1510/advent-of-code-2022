{
 "cells": [
  {
   "cell_type": "code",
   "execution_count": null,
   "metadata": {},
   "outputs": [],
   "source": [
    "from pyxtension.streams import stream\n",
    "import re\n",
    "\n",
    "\n",
    "file = \"aoc-5.ex1.txt\"\n",
    "file = \"aoc-5.ex2.txt\""
   ]
  },
  {
   "cell_type": "code",
   "execution_count": null,
   "metadata": {},
   "outputs": [],
   "source": [
    "def split_stacks_and_moves(lines):\n",
    "    stacks_and_moves = []\n",
    "    current_group = []\n",
    "    for line in lines:\n",
    "        if line == '':\n",
    "            stacks_and_moves.append(current_group)\n",
    "            current_group = []\n",
    "        else:\n",
    "            current_group.append(line)\n",
    "    if current_group:\n",
    "        stacks_and_moves.append(current_group)\n",
    "    return stacks_and_moves\n",
    "\n",
    "def get_item(stack_number, line):\n",
    "    index = 4*(stack_number-1)+1\n",
    "    if index >= len(line):\n",
    "        return None\n",
    "    item = line[index]\n",
    "    if item == ' ':\n",
    "        return None\n",
    "    return item\n",
    "\n",
    "def to_stacks(lines):\n",
    "    numbers = lines[-1].split()\n",
    "    raw_stacks = lines[:-1][::-1]\n",
    "    stacks = []\n",
    "    for n in numbers:\n",
    "        stack_number = int(n)\n",
    "        items = stream(raw_stacks)\\\n",
    "            .map(lambda l: get_item(stack_number, l))\\\n",
    "            .filter(lambda i: i is not None)\\\n",
    "            .toList()\n",
    "        stacks.append(items)\n",
    "    return stacks\n",
    "\n",
    "def to_move(line):\n",
    "    parts = re.split('move | from | to ', line)[1:]\n",
    "    return stream(parts).map(int).toList()\n",
    "\n",
    "def to_stacks_and_moves(lines): \n",
    "    parts = split_stacks_and_moves(lines)\n",
    "    stacks = to_stacks(parts[0])\n",
    "    moves = stream(parts[1])\\\n",
    "        .map(to_move)\\\n",
    "        .toList()\n",
    "    return [stacks, moves]\n",
    "\n",
    "with open(file) as file:\n",
    "    lines = [line.rstrip() for line in file]\n"
   ]
  },
  {
   "attachments": {},
   "cell_type": "markdown",
   "metadata": {},
   "source": [
    "### Part 1"
   ]
  },
  {
   "cell_type": "code",
   "execution_count": null,
   "metadata": {},
   "outputs": [],
   "source": [
    "stacks_and_moves = to_stacks_and_moves(lines)\n",
    "stacks = stacks_and_moves[0]\n",
    "moves = stacks_and_moves[1]\n",
    "\n",
    "for move in moves:\n",
    "    amount = move[0]\n",
    "    from_stack = stacks[move[1]-1]\n",
    "    to_stack = stacks[move[2]-1]\n",
    "    for i in range(0, amount):\n",
    "        item = from_stack.pop()\n",
    "        to_stack.append(item)\n",
    "\n",
    "stream(stacks)\\\n",
    "    .map(lambda s: s[-1])\\\n",
    "    .join()"
   ]
  },
  {
   "attachments": {},
   "cell_type": "markdown",
   "metadata": {},
   "source": [
    "### Part 2"
   ]
  },
  {
   "cell_type": "code",
   "execution_count": null,
   "metadata": {},
   "outputs": [],
   "source": [
    "stacks_and_moves = to_stacks_and_moves(lines)\n",
    "stacks = stacks_and_moves[0]\n",
    "moves = stacks_and_moves[1]\n",
    "\n",
    "for move in moves:\n",
    "    amount = move[0]\n",
    "    from_stack = stacks[move[1]-1]\n",
    "    to_stack = stacks[move[2]-1]\n",
    "    items = from_stack[-amount:]\n",
    "    del from_stack[-amount:]\n",
    "    to_stack.extend(items)\n",
    "\n",
    "stream(stacks)\\\n",
    "    .map(lambda s: s[-1])\\\n",
    "    .join()"
   ]
  }
 ],
 "metadata": {
  "kernelspec": {
   "display_name": "Python 3",
   "language": "python",
   "name": "python3"
  },
  "language_info": {
   "codemirror_mode": {
    "name": "ipython",
    "version": 3
   },
   "file_extension": ".py",
   "mimetype": "text/x-python",
   "name": "python",
   "nbconvert_exporter": "python",
   "pygments_lexer": "ipython3",
   "version": "3.8.10"
  },
  "orig_nbformat": 4,
  "vscode": {
   "interpreter": {
    "hash": "e7370f93d1d0cde622a1f8e1c04877d8463912d04d973331ad4851f04de6915a"
   }
  }
 },
 "nbformat": 4,
 "nbformat_minor": 2
}
